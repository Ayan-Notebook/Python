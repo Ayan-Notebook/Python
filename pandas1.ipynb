{
 "cells": [
  {
   "cell_type": "code",
   "execution_count": 1,
   "metadata": {},
   "outputs": [
    {
     "name": "stdout",
     "output_type": "stream",
     "text": [
      "Jayanta      14\n",
      "Subha        17\n",
      "Swarnadip    14\n",
      "Kuntal       20\n",
      "Raju         12\n",
      "Ayan         21\n",
      "Prince       12\n",
      "Deblina      15\n",
      "Rakhi        15\n",
      "Priyanka     14\n",
      "Name: Lab Completion, dtype: object\n"
     ]
    }
   ],
   "source": [
    "import pandas as pd\n",
    "\n",
    "# Create a list of student names\n",
    "students = ['Jayanta', 'Subha', 'Swarnadip', 'Kuntal', 'Raju',\n",
    "            'Ayan', 'Prince', 'Deblina', 'Rakhi', 'Priyanka']\n",
    "\n",
    "# Create a list lab completion data\n",
    "lab_completion = ['14', '17', '14', '20', '12',\n",
    "            '21', '12', '15', '15', '14']\n",
    "\n",
    "# Create a Pandas Data Series\n",
    "lab_completion_series = pd.Series(lab_completion, index=students, name='Lab Completion')\n",
    "\n",
    "# Display the Data Series\n",
    "print(lab_completion_series)"
   ]
  },
  {
   "cell_type": "code",
   "execution_count": null,
   "metadata": {},
   "outputs": [],
   "source": [
    "import pandas as pd\n",
    "\n",
    "# Create a list of student names\n",
    "students = ['Jayanta', 'Subha', 'Swarnadip', 'Kuntal', 'Raju',\n",
    "            'Ayan', 'Prince', 'Deblina', 'Rakhi', 'Priyanka']\n",
    "\n",
    "# Create a list lab completion data\n",
    "lab_completion = ['14', '17', '14', '20', '12',\n",
    "            '21', '12', '15', '15', '14']\n",
    "\n",
    "lab_completion_percentage = ['40%', '48%', '40%', '50%', '35%',\n",
    "            '55%', '35%', '42%', '42%', '40%']\n",
    "\n",
    "lab_completion_series = pd.Series(lab_completion, index=students, name='Lab Completion Percentage')\n",
    "\n",
    "# Add the 'Lab Completion' column with lab completion data\n",
    "lab_completion_series['Lab Completion'] = lab_completion_percentage\n",
    "\n",
    "# Display the Data Series\n",
    "print(lab_completion_series)"
   ]
  },
  {
   "cell_type": "code",
   "execution_count": 8,
   "metadata": {},
   "outputs": [
    {
     "name": "stdout",
     "output_type": "stream",
     "text": [
      "Rent                10000\n",
      "Electricity Bill     1500\n",
      "Groceries            1000\n",
      "News Paper            500\n",
      "Transport            1000\n",
      "Gas                   969\n",
      "Vegetables           1000\n",
      "Name: monthly expences, dtype: int64\n"
     ]
    }
   ],
   "source": [
    "import pandas as pd\n",
    "\n",
    "Monthly_Expences = ['Rent', 'Electricity Bill', 'Groceries', 'News Paper',\n",
    "            'Transport', 'Gas', 'Vegetables']\n",
    "\n",
    "Rupees = [10000, 1500, 1000, 500, 1000,\n",
    "            969, 1000]\n",
    "\n",
    "Rupees_Series = pd.Series(Rupees, index=Monthly_Expences, name='monthly expences')\n",
    "\n",
    "print(Rupees_Series)"
   ]
  }
 ],
 "metadata": {
  "kernelspec": {
   "display_name": "Python 3",
   "language": "python",
   "name": "python3"
  },
  "language_info": {
   "codemirror_mode": {
    "name": "ipython",
    "version": 3
   },
   "file_extension": ".py",
   "mimetype": "text/x-python",
   "name": "python",
   "nbconvert_exporter": "python",
   "pygments_lexer": "ipython3",
   "version": "3.11.4"
  }
 },
 "nbformat": 4,
 "nbformat_minor": 2
}

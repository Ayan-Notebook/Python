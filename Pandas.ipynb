{
 "cells": [
  {
   "cell_type": "code",
   "execution_count": null,
   "metadata": {},
   "outputs": [
    {
     "ename": "",
     "evalue": "",
     "output_type": "error",
     "traceback": [
      "\u001b[1;31mFailed to start the Kernel. \n",
      "\u001b[1;31mUnable to start Kernel 'Python 3.11.4' due to a connection timeout. \n",
      "\u001b[1;31mView Jupyter <a href='command:jupyter.viewOutput'>log</a> for further details."
     ]
    }
   ],
   "source": [
    "import pandas as pd\n",
    "\n",
    "# Create a list of student names\n",
    "students = ['Jayanta', 'Subha', 'Swarnadip', 'Kuntal', 'Raju',\n",
    "            'Ayan', 'Prince', 'Deblina', 'Rakhi', 'Priyanka']\n",
    "\n",
    "# Create a list lab completion data\n",
    "lab_completion = ['14', '17', '14', '20', '12',\n",
    "            '21', '12', '15', '15', '14']\n",
    "\n",
    "# Create a Pandas Data Series\n",
    "lab_completion_series = pd.Series(lab_completion, index=students, name='Lab Completion')\n",
    "\n",
    "# Display the Data Series\n",
    "print(lab_completion_series)\n"
   ]
  }
 ],
 "metadata": {
  "kernelspec": {
   "display_name": "Python 3",
   "language": "python",
   "name": "python3"
  },
  "language_info": {
   "codemirror_mode": {
    "name": "ipython",
    "version": 3
   },
   "file_extension": ".py",
   "mimetype": "text/x-python",
   "name": "python",
   "nbconvert_exporter": "python",
   "pygments_lexer": "ipython3",
   "version": "3.11.4"
  }
 },
 "nbformat": 4,
 "nbformat_minor": 2
}
